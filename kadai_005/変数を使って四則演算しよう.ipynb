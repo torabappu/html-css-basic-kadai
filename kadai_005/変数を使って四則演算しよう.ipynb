{
  "nbformat": 4,
  "nbformat_minor": 0,
  "metadata": {
    "colab": {
      "provenance": []
    },
    "kernelspec": {
      "name": "python3",
      "display_name": "Python 3"
    },
    "language_info": {
      "name": "python"
    }
  },
  "cells": [
    {
      "cell_type": "code",
      "execution_count": 5,
      "metadata": {
        "colab": {
          "base_uri": "https://localhost:8080/"
        },
        "id": "ejdgSoMlnZMr",
        "outputId": "875f228f-671d-42da-f302-a2249a10c99b"
      },
      "outputs": [
        {
          "output_type": "stream",
          "name": "stdout",
          "text": [
            "75.0cm2\n"
          ]
        }
      ],
      "source": [
        "a = 10\n",
        "b = 20\n",
        "c = 5\n",
        "d = (a+b)*c/2\n",
        "print(str(d)+\"cm2\")"
      ]
    },
    {
      "cell_type": "code",
      "source": [],
      "metadata": {
        "id": "Z6o3fbR3njxz"
      },
      "execution_count": null,
      "outputs": []
    }
  ]
}